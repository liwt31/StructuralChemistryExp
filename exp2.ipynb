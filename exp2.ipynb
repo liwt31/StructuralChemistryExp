{
 "cells": [
  {
   "cell_type": "code",
   "execution_count": null,
   "metadata": {},
   "outputs": [],
   "source": [
    "from numpy import *\n",
    "from matplotlib.pyplot import plot, show, title\n",
    "from scipy.special import factorial"
   ]
  },
  {
   "cell_type": "markdown",
   "metadata": {},
   "source": [
    "# 我们今天要干什么？\n",
    "- 复习Python和Notebook基本操作\n",
    "- 绘制双原子分子振动能级布居\n",
    "- Python语法之二：列表(list)和循环\n",
    "- 计算从振动基态到激发态的Franck-Condon因子\n",
    "- 绘制一维势箱、三维势箱的DOS\n",
    "- 利用休克尔模型观察能带的形成\n",
    "\n",
    "# 1. 转动能级布居\n",
    "转动光谱中，谱线高度先升高后降低，这是由于振动能级的布居先升高后降低导致的。\n",
    "\n",
    "![rotation](./fig/rotation.png)\n",
    "\n",
    "转动能级的布居公式为：\n",
    "$$𝑛_𝐽 \\propto (2𝐽+1)𝑒^{\\frac{−ℎ𝑐𝐵 ̃𝐽(𝐽+1)}{𝑘𝑇}}$$\n",
    "其中$J$是转动量子数，$h$是普朗克常数，$c$是光速，$B$是转动常数，$k$是玻尔兹曼常数，$T$是温度。指前因子是由能级简并引起的。"
   ]
  },
  {
   "cell_type": "code",
   "execution_count": null,
   "metadata": {},
   "outputs": [],
   "source": [
    "from scipy.constants import h, c, k"
   ]
  },
  {
   "cell_type": "markdown",
   "metadata": {},
   "source": [
    "取CO的转动常数，$B=1.93 \\, \\textrm{cm}^{-1} = 193 \\, \\textrm{m}^{-1} $"
   ]
  },
  {
   "cell_type": "code",
   "execution_count": null,
   "metadata": {},
   "outputs": [],
   "source": [
    "T = 300\n",
    "B = 193\n",
    "J = arange(50)"
   ]
  },
  {
   "cell_type": "code",
   "execution_count": null,
   "metadata": {},
   "outputs": [],
   "source": [
    "population = (2 * J + 1) * exp(- h * c * B * J * (J+1) / (k * T))\n",
    "plot(J, population)"
   ]
  },
  {
   "cell_type": "markdown",
   "metadata": {},
   "source": [
    "使用`vlines`函数画分立的竖线可以模拟光谱"
   ]
  },
  {
   "cell_type": "code",
   "execution_count": null,
   "metadata": {},
   "outputs": [],
   "source": [
    "from matplotlib.pyplot import vlines\n",
    "vlines(J, zeros_like(J), population)"
   ]
  },
  {
   "cell_type": "markdown",
   "metadata": {},
   "source": [
    "## 试一试\n",
    "氢分子的转动常数为$60.85 \\, \\textrm{cm}^{-1}$，HCl分子的转动常数为$10.59 \\, \\textrm{cm}^{-1}$，这两个分子的转动能级布居和CO相比有什么不同？为什么？"
   ]
  },
  {
   "cell_type": "markdown",
   "metadata": {},
   "source": [
    "## 实验（写入实验报告）\n",
    "绘制CO转动能级在温度$T$下的布居和光谱形状，其中$T$为你的学号除以999的余数+1。"
   ]
  },
  {
   "cell_type": "markdown",
   "metadata": {},
   "source": [
    "# 2. Python语法之2：列表(`list`)和循环\n",
    "将一堆Python的变量用`[]`括起来，就形成了一个列表(`list`)。注意到列表中可以包括各种不同的元素。"
   ]
  },
  {
   "cell_type": "code",
   "execution_count": null,
   "metadata": {},
   "outputs": [],
   "source": [
    "[pi, 2, h, c, arange(5)]"
   ]
  },
  {
   "cell_type": "markdown",
   "metadata": {},
   "source": [
    "利用`for xx in xx`的语法，可以**迭代**一个数组。为了显示迭代的效果，我们使用了`print`函数"
   ]
  },
  {
   "cell_type": "code",
   "execution_count": null,
   "metadata": {},
   "outputs": [],
   "source": [
    "for i in arange(5):\n",
    "    print(i)"
   ]
  },
  {
   "cell_type": "markdown",
   "metadata": {},
   "source": [
    "利用`append`操作可以给列表添加元素"
   ]
  },
  {
   "cell_type": "code",
   "execution_count": null,
   "metadata": {},
   "outputs": [],
   "source": [
    "l = [2, pi]\n",
    "for i in arange(5):\n",
    "    l.append(i)\n",
    "l"
   ]
  },
  {
   "cell_type": "markdown",
   "metadata": {},
   "source": [
    "当列表中都是数字时，可以用`plot`函数将`list`画出"
   ]
  },
  {
   "cell_type": "code",
   "execution_count": null,
   "metadata": {},
   "outputs": [],
   "source": [
    "plot(l)"
   ]
  },
  {
   "cell_type": "markdown",
   "metadata": {},
   "source": [
    "# 3. Franck-Condon因子\n",
    "首先回忆谐振子的波函数：\n",
    "$$\\psi_(\\xi) = N_v H_v(\\xi) e^{-\\frac{\\xi^2}{2}}$$\n",
    "其中$\\xi = \\frac{x}{\\alpha}$, $\\alpha = \\left ( \\frac{\\hbar^2}{mk} \\right ) ^{\\frac{1}{4}} = \\sqrt{\\frac{\\hbar}{m\\omega}}$, $N_v$为归一化常数，$H_v(\\xi)$为厄米多项式。 \n",
    "即谐振子波函数为归一化因子、厄米多项式和一个高斯型分布的乘积。\n",
    "\n",
    "上次实验中，已经绘制过谐振子的波函数"
   ]
  },
  {
   "cell_type": "code",
   "execution_count": null,
   "metadata": {},
   "outputs": [],
   "source": [
    "from scipy.special import eval_hermite as hermite\n",
    "limit = 10\n",
    "xi = linspace(-limit, limit, 10000)\n",
    "nu_1 = 0\n",
    "wfn1 = hermite(nu_1, xi) * e ** (-xi ** 2/ 2)\n",
    "plot(xi, wfn1)"
   ]
  },
  {
   "cell_type": "markdown",
   "metadata": {},
   "source": [
    "## 0-0跃迁的Franck-Condon因子随平衡位置偏移距离的关系\n",
    "Franck-Condon原理指出在电子跃迁的瞬间，核构型不变。电子跃迁时核的初态和末态振动波函数的重叠大小称为Franck-Condon因子，以下简称FC因子。\n",
    "\n",
    "Franck-Condon因子越大电子跃迁越容易发生。\n",
    "\n",
    "![fc1](./fig/fc1.png)\n",
    "\n",
    "振动波函数重叠大小的求法是求积分：\n",
    "$$\n",
    "\\textrm{FC} = \\left ( \\int \\psi^*(\\xi) \\psi(\\xi) dx \\right)^2\n",
    "$$\n",
    "计算机当然可以求积分，不过本质上都是离散地求的，即将积分转换为求和：\n",
    "$$\n",
    "\\textrm{FC} = \\left ( \\sum_\\xi \\psi^*(\\xi) \\psi(\\xi) \\right)^2\n",
    "$$\n",
    "现假设一个谐振子的平衡位置位于原点，其基态波函数即为上图，另一个波函数的平衡位置在$D$，其基态波函数为下图。\n",
    "由于$\\xi$实际上是经过归一化的距离，那么这里的$D$也是经过了归一化的"
   ]
  },
  {
   "cell_type": "code",
   "execution_count": null,
   "metadata": {},
   "outputs": [],
   "source": [
    "D = 2\n",
    "nu_2 = 0\n",
    "wfn2 = hermite(nu_2, xi-D) * e ** (-(xi-D) ** 2 / 2)\n",
    "plot(xi, wfn2)"
   ]
  },
  {
   "cell_type": "markdown",
   "metadata": {},
   "source": [
    "我们可将两张图及其乘积叠在一起，可见其乘积只有在两个波函数都比较大时才比较大，否则接近于0"
   ]
  },
  {
   "cell_type": "code",
   "execution_count": null,
   "metadata": {},
   "outputs": [],
   "source": [
    "plot(xi, wfn1)\n",
    "plot(xi, wfn2)\n",
    "plot(xi, wfn1 * wfn2)"
   ]
  },
  {
   "cell_type": "markdown",
   "metadata": {},
   "source": [
    "接下来，只需对乘积求和即可得FC因子了。但是要注意这里我们的波函数都是未归一化的，如何归一化呢？"
   ]
  },
  {
   "cell_type": "code",
   "execution_count": null,
   "metadata": {},
   "outputs": [],
   "source": [
    "((wfn1 * wfn2).sum() / sqrt((wfn1 ** 2).sum() * (wfn2 ** 2).sum())) ** 2"
   ]
  },
  {
   "cell_type": "markdown",
   "metadata": {},
   "source": [
    "下面我们利用一个循环来计算不同$D$下的FC因子，并记录到一个`list`中，最后画出FC因子与$D$的关系。\n",
    "\n",
    "我们在计算FC因子时，取绝对值，这是因为FC因子的符号无意义，有意义的是FC因子的平方"
   ]
  },
  {
   "cell_type": "code",
   "execution_count": null,
   "metadata": {},
   "outputs": [],
   "source": [
    "D_array = linspace(-10, 10, 100)\n",
    "FC_list = []\n",
    "for D in D_array:\n",
    "    wfn2 = hermite(nu_2, xi-D) * e ** (-(xi-D) ** 2 / 2)\n",
    "    FC = ((wfn1 * wfn2).sum() / sqrt((wfn1 ** 2).sum() * (wfn2 ** 2).sum())) ** 2\n",
    "    FC_list.append(FC)\n",
    "plot(D_array, FC_list)"
   ]
  },
  {
   "cell_type": "markdown",
   "metadata": {},
   "source": [
    "下图中给出了PPT上的0-0跃迁Franck-Condon因子与平衡位置间距的关系，与我们画的图是一致的。平衡位置间距越远，0-0跃迁的强度越低，这和物理化学直觉也是符合的\n",
    "\n",
    "![fc1](./fig/fc2.png)"
   ]
  },
  {
   "cell_type": "markdown",
   "metadata": {},
   "source": [
    "## 一定平衡位置间距下0-M跃迁的FC因子与M的关系\n",
    "PPT上给出了当平衡间距为$q_0$时，0-M跃迁的FC因子为：\n",
    "$$\n",
    "\\textrm{FC}(0, M) = \\frac{S^M}{M!}e^{-S}\n",
    "$$\n",
    "其中S称为黄昆因子，$S=\\frac{\\omega D^2}{2}$，$\\omega$是谐振子振动频率。\n",
    "我们首先对这个式子做一下验证。"
   ]
  },
  {
   "cell_type": "code",
   "execution_count": null,
   "metadata": {},
   "outputs": [],
   "source": [
    "omega = 1\n",
    "D = 2\n",
    "S = omega * D ** 2 / 2\n",
    "S"
   ]
  },
  {
   "cell_type": "code",
   "execution_count": null,
   "metadata": {},
   "outputs": [],
   "source": [
    "M_array = arange(10)\n",
    "FC_list = []\n",
    "for nu_2 in M_array:\n",
    "    wfn2 = hermite(nu_2, xi-D) * e ** (-(xi-D) ** 2 / 2)\n",
    "    FC = ((wfn1 * wfn2).sum() / sqrt((wfn1 ** 2).sum() * (wfn2 ** 2).sum())) ** 2\n",
    "    FC_list.append(FC)\n",
    "plot(M_array, FC_list)\n",
    "plot(S ** M_array / factorial(M_array) * exp(-S))"
   ]
  },
  {
   "cell_type": "markdown",
   "metadata": {},
   "source": [
    "为什么只看到一条曲线呢？因为两条曲线完全重叠。\n",
    "下面一张图通过设置`marker`的方式来区分两条曲线，注意我们可以通过`xx=xx`而不仅仅是位置来传递参数。"
   ]
  },
  {
   "cell_type": "code",
   "execution_count": null,
   "metadata": {},
   "outputs": [],
   "source": [
    "plot(M_array, FC_list, marker=\"o\")\n",
    "plot(S ** M_array / factorial(M_array) * exp(-S), marker=\"x\")"
   ]
  },
  {
   "cell_type": "markdown",
   "metadata": {},
   "source": [
    "## 实验（写入实验报告）\n",
    "通过改变$D$改变$S$，绘制FC因子-$M$曲线，并回答曲线的最高点和$S$的关系是什么？"
   ]
  },
  {
   "cell_type": "markdown",
   "metadata": {},
   "source": [
    "# 4. 一维/三维势箱态密度\n",
    "一维势箱的能级公式为：\n",
    "$$\n",
    "E_n = \\frac{\\hbar^2 \\pi^2 n^2}{2mL^2}\n",
    "$$\n",
    "其中$m$为粒子质量，$L$为势箱长度。对于一个确定的 体系，将$\\frac{\\hbar^2 \\pi^2}{2mL^2}$视作常数，则能量只和$n$有关"
   ]
  },
  {
   "cell_type": "code",
   "execution_count": null,
   "metadata": {},
   "outputs": [],
   "source": [
    "E_array = arange(1000) ** 2"
   ]
  },
  {
   "cell_type": "markdown",
   "metadata": {},
   "source": [
    "利用直方图可以方便地查看数据的分布情况，即能态的密度"
   ]
  },
  {
   "cell_type": "code",
   "execution_count": null,
   "metadata": {},
   "outputs": [],
   "source": [
    "from matplotlib.pyplot import hist\n",
    "hist(E_array, bins=100);"
   ]
  },
  {
   "cell_type": "markdown",
   "metadata": {},
   "source": [
    "对于三维势箱，同理可得："
   ]
  },
  {
   "cell_type": "code",
   "execution_count": null,
   "metadata": {},
   "outputs": [],
   "source": [
    "E_array = arange(100).reshape(-1, 1, 1) ** 2 + arange(100).reshape(1, -1, 1) ** 2 + arange(100).reshape(1, 1, -1) ** 2\n",
    "hist(E_array.flatten(), bins=100, range=(0, 10000));"
   ]
  },
  {
   "cell_type": "markdown",
   "metadata": {},
   "source": [
    "其中设置`range`是为了截去能量较高，没有穷举完全的部分。PPT中固体的DOS如下图所示：\n",
    "\n",
    "![dos](./fig/dos.png)"
   ]
  },
  {
   "cell_type": "markdown",
   "metadata": {},
   "source": [
    "## 实验（写入实验报告）\n",
    "绘制二维势箱态密度，指出满足什么规律。"
   ]
  },
  {
   "cell_type": "markdown",
   "metadata": {},
   "source": [
    "# 5. 利用休克尔模型观察能带的形成\n",
    "我们在上次实验中已经计算过环状休克尔模型的能量，本次实验我们计算长链休克尔模型能量。"
   ]
  },
  {
   "cell_type": "code",
   "execution_count": null,
   "metadata": {},
   "outputs": [],
   "source": [
    "alpha = 0\n",
    "beta = -1"
   ]
  },
  {
   "cell_type": "code",
   "execution_count": null,
   "metadata": {},
   "outputs": [],
   "source": [
    "for n in [4, 20, 50, 100, 200, 500]:\n",
    "    H = diag(ones(n)) * alpha + diag(ones(n-1) * beta, 1) + diag(ones(n-1) * beta, -1)\n",
    "    eigvals = linalg.eigvalsh(H)\n",
    "    vlines(eigvals, zeros_like(eigvals), ones_like(eigvals))\n",
    "    title(n)\n",
    "    show()"
   ]
  },
  {
   "cell_type": "code",
   "execution_count": null,
   "metadata": {},
   "outputs": [],
   "source": [
    "for n in [4, 20, 50, 100, 200, 500]:\n",
    "    H = diag(ones(n)) * alpha + diag(ones(n-1) * beta, 1) + diag(ones(n-1) * beta, -1)\n",
    "    eigvals = linalg.eigvalsh(H)\n",
    "    hist(eigvals, bins=20)\n",
    "    title(n)\n",
    "    show()"
   ]
  },
  {
   "cell_type": "markdown",
   "metadata": {},
   "source": [
    "## 实验（写入实验报告）\n",
    "改变$\\alpha$和$\\beta$，观察休克尔模型能带如何变化，并简单解释"
   ]
  }
 ],
 "metadata": {
  "kernelspec": {
   "display_name": "Python [conda root]",
   "language": "python",
   "name": "conda-root-py"
  },
  "language_info": {
   "codemirror_mode": {
    "name": "ipython",
    "version": 3
   },
   "file_extension": ".py",
   "mimetype": "text/x-python",
   "name": "python",
   "nbconvert_exporter": "python",
   "pygments_lexer": "ipython3",
   "version": "3.5.5"
  }
 },
 "nbformat": 4,
 "nbformat_minor": 2
}
