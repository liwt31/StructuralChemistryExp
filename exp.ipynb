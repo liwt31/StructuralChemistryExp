{
 "cells": [
  {
   "cell_type": "markdown",
   "metadata": {},
   "source": [
    "# 什么是Python？为什么要用Python来做结构化学实验？\n",
    "\n",
    "Python是一种编程语言，它简单易学同时威力巨大。最近几年人工智能变得异常火爆，而Python作为人工智能开发的首选语言在编程语言大战中崭露头角。\n",
    "\n",
    "做结构化学实验不一定要用Python，甚至不一定要会编程，用Excel就能做，稍后我们会演示。\n",
    "为什么要用Python来做结构化学实验？\n",
    "原因有如下几个方面：\n",
    "- Python可以和Jupyter Notebook结合，将文字、公式、代码与图表相结合，达到最好的教学效果。利用Binder，可以省去安装过程，打开网页即可做实验\n",
    "- Python简单易学上手快，即使对编程0基础的同学也能轻松20分钟入门\n",
    "- Python是一门非常流行的语言，有很多基于Python开发的项目。这允许你用几行代码完成很多任务。同学们在学习了Python基础后，可以自行搜索资料用20行代码做一个“卷积神经网络”的“人工智能”识别手写数字。可以说只有你想不到，没有Python做不到\n",
    "- Python是我们课题组常用的语言，我对Python非常熟悉，同学们不论整出什么幺蛾子有什么问题我都能够处理\n",
    "\n",
    "尽管Python也支持符号计算（类似Mathematica和Maple），在实验中我们主要进行数值计算。符号计算原则上效率更高，但数值计算比符号计算应用更广泛。\n",
    "\n",
    "Python不是完美的，也有不适用于这门课的方面。比如说Python是一门通用编程语言，采用了编程语言的惯例，对一些数学表达式的支持很差。例如你不能写`2x`来表示2乘以$x$，乘方也必须用`2**3`这样的方式。\n",
    "\n",
    "# 什么是Jupyter Notebook?\n",
    "Jupyter Notebook是一个“交互式的环境”。其实顾名思义你就可以把它当做是一个笔记本。\n",
    "\n",
    "一个Notebook许多cell组成，每个cell包括代码与输出两个部分。cell是执行代码的单元。在接下来的实验中，我们会一个cell一个cell地执行代码，然后观察输出。\n",
    "\n",
    "# 我们今天要干什么？\n",
    "- Python与Jupyter Notebook 0基础20分钟入门\n",
    "- 画一维势箱的波函数\n",
    "- 画谐振子波函数\n",
    "- 画类氢原子波函数\n",
    "- 求解大分子的休克尔模型\n",
    "- 画一维/三维势箱态密度\n",
    "- 利用休克尔模型观察能带的形成\n",
    "\n",
    "今天实验的许多内容同学们点点鼠标、按按回车就行，但在必要的时候，同学们会需要写一些简单的代码"
   ]
  },
  {
   "cell_type": "markdown",
   "metadata": {},
   "source": [
    "# 1. Python与Jupyter Notebook 0基础20分钟入门"
   ]
  },
  {
   "cell_type": "markdown",
   "metadata": {},
   "source": [
    "## 执行简单的代码\n",
    "在下面一个cell中，我们将执行一行非常简单的代码：1+1，然后观察输出。\n",
    "\n",
    "执行代码的一般方式为：鼠标单击选中cell，或者移动上下方向键选中cell，然后按shift+回车"
   ]
  },
  {
   "cell_type": "code",
   "execution_count": null,
   "metadata": {},
   "outputs": [],
   "source": [
    "1+1"
   ]
  },
  {
   "cell_type": "markdown",
   "metadata": {},
   "source": [
    "在这个cell里，我们执行了一行标准的Python代码，并且我们看到Python给出了可靠的结果。在执行过的cell前，会给出代码和输出的id，每次执行这个数都会递增，我们一般不用关心。\n",
    "\n",
    "试试更改这个cell，进行减法、乘法、除法、乘方以及混合运算。\n",
    "\n",
    "要更改一个cell，首先要进入这个cell的编辑环境。方法有二，第一个方法是鼠标在代码区域单击，第二个方法是选中然后按回车。如果你不小心进入了这些文字（而非代码）的编辑环境，只需shift+回车即可恢复原样\n",
    "\n",
    "感受一下，Python+Jupyter Notebook可以理解成一个计算器"
   ]
  },
  {
   "cell_type": "markdown",
   "metadata": {},
   "source": [
    "## 是谁在做这些计算？\n",
    "我们的计算运行在Binder的服务器上，不在你的电脑里，也不在我的电脑里。如果网络连接出了问题，这些计算将无法进行。网络不稳定时，可能需要刷新这个页面。\n",
    "\n",
    "**如果你过了很久重新登录这个页面，你的结果不会被保存。**"
   ]
  },
  {
   "cell_type": "markdown",
   "metadata": {},
   "source": [
    "## 变量赋值\n",
    "在Python中，我们可以将变量赋值给一个符号（一般是一个英文单词之类的）存起来，方便以后使用。这个符号称为**变量**。变量赋值没有输出。"
   ]
  },
  {
   "cell_type": "code",
   "execution_count": null,
   "metadata": {},
   "outputs": [],
   "source": [
    "pi = 3.1415926535"
   ]
  },
  {
   "cell_type": "markdown",
   "metadata": {},
   "source": [
    "在cell中直接运行这个变量，就可以得到这个变量的值"
   ]
  },
  {
   "cell_type": "code",
   "execution_count": null,
   "metadata": {},
   "outputs": [],
   "source": [
    "pi"
   ]
  },
  {
   "cell_type": "code",
   "execution_count": null,
   "metadata": {},
   "outputs": [],
   "source": [
    "pi * pi"
   ]
  },
  {
   "cell_type": "markdown",
   "metadata": {},
   "source": [
    "试试更改pi的值！"
   ]
  },
  {
   "cell_type": "markdown",
   "metadata": {},
   "source": [
    "## 单个cell中的多行语句\n",
    "一个cell中可以同时执行多个语句。要在一个cell中写入多行代码，只需在cell中回车换行即可。"
   ]
  },
  {
   "cell_type": "code",
   "execution_count": null,
   "metadata": {},
   "outputs": [],
   "source": [
    "pi2 = pi * pi\n",
    "pi2 / pi"
   ]
  },
  {
   "cell_type": "markdown",
   "metadata": {},
   "source": [
    "## 出现异常！\n",
    "\n",
    "当你做了一些Python不允许你做的事情的时候，就会出现“**异常**”。“出现异常”是很正常的，一般来说我们对异常的错误信息进行分析就能将其排除。"
   ]
  },
  {
   "cell_type": "code",
   "execution_count": null,
   "metadata": {},
   "outputs": [],
   "source": [
    "1 / 0"
   ]
  },
  {
   "cell_type": "markdown",
   "metadata": {},
   "source": [
    "注意到中文字符不能替换英文字符，在进行计算机实验时，一般不会输入中文，推荐将输入法切换为英文输入法。"
   ]
  },
  {
   "cell_type": "code",
   "execution_count": null,
   "metadata": {},
   "outputs": [],
   "source": [
    "3。14"
   ]
  },
  {
   "cell_type": "code",
   "execution_count": null,
   "metadata": {},
   "outputs": [],
   "source": [
    "blablabksldjfiawejfhiuwfhjwiuefbiwoaijiegouhuaxuehahaha"
   ]
  },
  {
   "cell_type": "code",
   "execution_count": null,
   "metadata": {},
   "outputs": [],
   "source": [
    "sin(pi)"
   ]
  },
  {
   "cell_type": "markdown",
   "metadata": {},
   "source": [
    "如果在进行实验的过程中出现了你无法解决的异常，请联系助教"
   ]
  },
  {
   "cell_type": "markdown",
   "metadata": {},
   "source": [
    "## 一些魔法（导入包）\n",
    "我们刚才看到直接求`sin(pi)`失败了，这是因为`sin`不是一个有效的名字，Python不知道sin是什么，接下来我们要导入一些名字，使我们能进行一些有用的数学操作。\n",
    "这个导入的过程同学们无需在意。"
   ]
  },
  {
   "cell_type": "code",
   "execution_count": null,
   "metadata": {},
   "outputs": [],
   "source": [
    "from numpy import *\n",
    "from matplotlib.pyplot import plot"
   ]
  },
  {
   "cell_type": "code",
   "execution_count": null,
   "metadata": {},
   "outputs": [],
   "source": [
    "sin(pi)"
   ]
  },
  {
   "cell_type": "markdown",
   "metadata": {},
   "source": [
    "像`sin`这样后面跟一个括号可以**调用**的称为**函数**。括号里的变量称为**参数**。"
   ]
  },
  {
   "cell_type": "markdown",
   "metadata": {},
   "source": [
    "## 数组与属性(.)\n",
    "为什么需要数组？Excel时间到！"
   ]
  },
  {
   "cell_type": "code",
   "execution_count": null,
   "metadata": {},
   "outputs": [],
   "source": [
    "arange(11)"
   ]
  },
  {
   "cell_type": "code",
   "execution_count": null,
   "metadata": {},
   "outputs": [],
   "source": [
    "a = arange(11)"
   ]
  },
  {
   "cell_type": "markdown",
   "metadata": {},
   "source": [
    "许多Python中的变量都具有**属性**，通过`.`即可访问它们。"
   ]
  },
  {
   "cell_type": "code",
   "execution_count": null,
   "metadata": {},
   "outputs": [],
   "source": [
    "a.mean()"
   ]
  },
  {
   "cell_type": "markdown",
   "metadata": {},
   "source": [
    "数组之间可以按元素进行加减乘除操作"
   ]
  },
  {
   "cell_type": "code",
   "execution_count": null,
   "metadata": {},
   "outputs": [],
   "source": [
    "a * a"
   ]
  },
  {
   "cell_type": "code",
   "execution_count": null,
   "metadata": {},
   "outputs": [],
   "source": [
    "a / a"
   ]
  },
  {
   "cell_type": "markdown",
   "metadata": {},
   "source": [
    "出现警告，因为出现了0/0。由于是数组操作，很多项还是能除的，所以没有报错。\n",
    "nan代表not a number。"
   ]
  },
  {
   "cell_type": "code",
   "execution_count": null,
   "metadata": {},
   "outputs": [],
   "source": [
    "a.dot(a)"
   ]
  },
  {
   "cell_type": "markdown",
   "metadata": {},
   "source": [
    "注意区别向量的直接乘法（逐个元素乘）和点乘（逐个元素乘后再求和） "
   ]
  },
  {
   "cell_type": "code",
   "execution_count": null,
   "metadata": {},
   "outputs": [],
   "source": [
    "(a * a).sum()"
   ]
  },
  {
   "cell_type": "markdown",
   "metadata": {},
   "source": [
    "注意上面的括号。属性访问具有很高的优先级"
   ]
  },
  {
   "cell_type": "code",
   "execution_count": null,
   "metadata": {},
   "outputs": [],
   "source": [
    "a * a.sum()"
   ]
  },
  {
   "cell_type": "markdown",
   "metadata": {},
   "source": [
    "当需要的不仅仅是整数时，可以使用`linspace`。函数有多个参数时，用`,`隔开"
   ]
  },
  {
   "cell_type": "code",
   "execution_count": null,
   "metadata": {},
   "outputs": [],
   "source": [
    "linspace(0, 10, 11)"
   ]
  },
  {
   "cell_type": "markdown",
   "metadata": {},
   "source": [
    "## 总结：Python与Jupyter Notebook 20分钟入门\n",
    "- 基本语法\n",
    "    - 变量赋值`a=1`\n",
    "    - 调用函数`sin(a)`\n",
    "    - 访问属性`a.real`\n",
    "- Notebook操作\n",
    "    - 编辑与执行cell\n",
    "    - 创建和删除cell\n",
    "- 数组操作\n",
    "    - 创建线性数组`arange(10)`, `linspace(0, 49)`\n",
    "    - 数组的加减乘除操作一般是逐个元素的"
   ]
  },
  {
   "cell_type": "markdown",
   "metadata": {},
   "source": [
    "# 2.一维势箱波函数\n",
    "\n",
    "对一个长度为L的一维势箱来说，其波函数为：\n",
    "$$\\left ( \\frac{2}{L} \\right ) ^ {\\frac{1}{2}} \\sin \\frac{n \\pi x}{L}$$\n",
    "不妨设$L=2$，那么其波函数为：\n",
    "$$ \\sin \\frac{n \\pi x}{2} $$"
   ]
  },
  {
   "cell_type": "code",
   "execution_count": null,
   "metadata": {},
   "outputs": [],
   "source": [
    "L = 2\n",
    "x = linspace(0, L, 10000)\n",
    "x"
   ]
  },
  {
   "cell_type": "code",
   "execution_count": null,
   "metadata": {},
   "outputs": [],
   "source": [
    "n = 2"
   ]
  },
  {
   "cell_type": "code",
   "execution_count": null,
   "metadata": {},
   "outputs": [],
   "source": [
    "plot(x, sin(n * pi * x / 2))"
   ]
  },
  {
   "cell_type": "markdown",
   "metadata": {},
   "source": [
    "## 实验\n",
    "绘制一维势箱第$n$个能级波函数和粒子的概率分布，其中$n$为你的学号最后一位加1。这个波函数有多少个节点？"
   ]
  },
  {
   "cell_type": "markdown",
   "metadata": {},
   "source": [
    "# 3.谐振子波函数"
   ]
  },
  {
   "cell_type": "markdown",
   "metadata": {},
   "source": [
    "谐振子波函数具有如下的形式：\n",
    "$$\\psi_(\\xi) = N_v H_v(\\xi) e^{-\\frac{\\xi^2}{2}}$$\n",
    "其中$\\xi = \\frac{x}{\\alpha}$, $\\alpha = \\left ( \\frac{\\hbar^2}{mk} \\right ) ^{\\frac{1}{4}}$, $N_v$为归一化常数，$H_v(\\xi)$为厄米多项式。 \n",
    "即谐振子波函数为归一化因子、厄米多项式和一个高斯型分布的乘积。\n",
    "\n",
    "几个简单的厄米多项式：\n",
    "$$H_0(y) = 1$$\n",
    "$$H_1(y) = 2y$$\n",
    "$$H_2(y) = 4y^2 -2$$\n",
    "$$H_3(y) = 8y^3 -12y$$"
   ]
  },
  {
   "cell_type": "markdown",
   "metadata": {},
   "source": [
    "## 首先观察高斯型函数部分\n",
    "为了重点突出，我们设置$x$轴的最大值和最小值为`-limit`和`limit`。在绘制高能级波函数时，由于波函数更加伸展，可能需要更大的`limit`"
   ]
  },
  {
   "cell_type": "code",
   "execution_count": null,
   "metadata": {},
   "outputs": [],
   "source": [
    "limit = 5\n",
    "xi = linspace(-limit, limit, 10000)"
   ]
  },
  {
   "cell_type": "code",
   "execution_count": null,
   "metadata": {},
   "outputs": [],
   "source": [
    "plot(xi, e ** (-xi ** 2 / 2))"
   ]
  },
  {
   "cell_type": "markdown",
   "metadata": {},
   "source": [
    "## 然后观察厄米多项式部分\n",
    "有两种方式可以计算厄米多项式，第一种方式是自己手写，第二种方式是从别人写的代码里导入相应函数。显然我们更喜欢后者。\n",
    "\n",
    "最快的写代码的方式：不写代码\n",
    "- 使用别人或者自己写过的代码\n",
    "- 没有必要的代码现在不写"
   ]
  },
  {
   "cell_type": "code",
   "execution_count": null,
   "metadata": {},
   "outputs": [],
   "source": [
    "plot(xi, 8 * xi ** 3 - 12 * xi)"
   ]
  },
  {
   "cell_type": "code",
   "execution_count": null,
   "metadata": {},
   "outputs": [],
   "source": [
    "from scipy.special import eval_hermite as hermite"
   ]
  },
  {
   "cell_type": "code",
   "execution_count": null,
   "metadata": {},
   "outputs": [],
   "source": [
    "nu = 3\n",
    "plot(xi, hermite(nu, xi))"
   ]
  },
  {
   "cell_type": "markdown",
   "metadata": {},
   "source": [
    "## 最后观察乘积"
   ]
  },
  {
   "cell_type": "code",
   "execution_count": null,
   "metadata": {},
   "outputs": [],
   "source": [
    "plot(xi, hermite(nu, xi) * e ** (-xi ** 2/ 2))"
   ]
  },
  {
   "cell_type": "markdown",
   "metadata": {},
   "source": [
    "## 参考：课程PPT中的谐振子波函数\n",
    "![harmonic_oscillation](./fig/harmonic_oscillation.png)"
   ]
  },
  {
   "cell_type": "markdown",
   "metadata": {},
   "source": [
    "## 实验\n",
    "绘制量子谐振子第$n$个能级波函数和粒子的概率分布，其中$n$为你的学号除以11的余数。这个波函数有多少个节点？"
   ]
  },
  {
   "cell_type": "markdown",
   "metadata": {},
   "source": [
    "# 4. 类氢原子波函数\n",
    "这一小节目标为绘制类氢原子$2p_z$轨道波函数。由于这一波函数是三维的，在平面上较难绘制，我们选择绘制波函数在$xz$平面的剖面图，预期的最终结果如下图所示：\n",
    "\n",
    "![h_pz](./fig/h_pz.png)\n",
    "\n",
    "这张图是一个二维图，即$x$轴和$y$轴都是自变量，因变量由颜色表示。为了画二维图我们需要将因变量表示为二维数组（也就是矩阵），需要一些预备知识。"
   ]
  },
  {
   "cell_type": "markdown",
   "metadata": {},
   "source": [
    "## 预备知识：数组的维数和数组广播\n",
    "### 通过`reshape`获取高维数组"
   ]
  },
  {
   "cell_type": "code",
   "execution_count": null,
   "metadata": {},
   "outputs": [],
   "source": [
    "a = arange(12)"
   ]
  },
  {
   "cell_type": "markdown",
   "metadata": {},
   "source": [
    "通过`shape`属性可以获得数组的维数。注意`shape`并不是一个函数。"
   ]
  },
  {
   "cell_type": "code",
   "execution_count": null,
   "metadata": {},
   "outputs": [],
   "source": [
    "a.shape"
   ]
  },
  {
   "cell_type": "markdown",
   "metadata": {},
   "source": [
    "通过`reshape`属性可以改变数组的维数"
   ]
  },
  {
   "cell_type": "code",
   "execution_count": null,
   "metadata": {},
   "outputs": [],
   "source": [
    "a.reshape(3, 4)"
   ]
  },
  {
   "cell_type": "code",
   "execution_count": null,
   "metadata": {},
   "outputs": [],
   "source": [
    "a.reshape(4, 3)"
   ]
  },
  {
   "cell_type": "code",
   "execution_count": null,
   "metadata": {},
   "outputs": [],
   "source": [
    "a.reshape(2,2,3)"
   ]
  },
  {
   "cell_type": "code",
   "execution_count": null,
   "metadata": {},
   "outputs": [],
   "source": [
    "a.reshape(3, 4).dot(a.reshape(4,3)).shape"
   ]
  },
  {
   "cell_type": "markdown",
   "metadata": {},
   "source": [
    "### 高维数组之间的广播运算\n",
    "\n",
    "![broadcast](./fig/broadcast.png)"
   ]
  },
  {
   "cell_type": "code",
   "execution_count": null,
   "metadata": {},
   "outputs": [],
   "source": [
    "a = arange(0, 40, 10).reshape(4, 1)\n",
    "a"
   ]
  },
  {
   "cell_type": "code",
   "execution_count": null,
   "metadata": {},
   "outputs": [],
   "source": [
    "b = arange(3).reshape(1, 3)"
   ]
  },
  {
   "cell_type": "code",
   "execution_count": null,
   "metadata": {},
   "outputs": [],
   "source": [
    "a + b"
   ]
  },
  {
   "cell_type": "code",
   "execution_count": null,
   "metadata": {},
   "outputs": [],
   "source": [
    "a * b"
   ]
  },
  {
   "cell_type": "markdown",
   "metadata": {},
   "source": [
    "高维数组间的广播运算理解起来比较别扭，但使用场景非常广阔，我们下面就会用到"
   ]
  },
  {
   "cell_type": "markdown",
   "metadata": {},
   "source": [
    "## 绘制类氢原子$2p_z$轨道波函数\n",
    "类氢原子$2p_z$轨道波函数在极坐标下为：\n",
    "$$\\psi = N \\rho e ^{-\\frac{\\rho}{2}} \\cos \\theta$$\n",
    "其中$N$为归一化系数，$\\rho=\\frac{r}{a_0}$。"
   ]
  },
  {
   "cell_type": "code",
   "execution_count": null,
   "metadata": {},
   "outputs": [],
   "source": [
    "rho = linspace(0, 12, 100)\n",
    "theta = linspace(0, 2 * pi, 200)"
   ]
  },
  {
   "cell_type": "code",
   "execution_count": null,
   "metadata": {},
   "outputs": [],
   "source": [
    "radial_part = rho * e ** (- rho / 2)\n",
    "angular_part = cos(theta)"
   ]
  },
  {
   "cell_type": "code",
   "execution_count": null,
   "metadata": {},
   "outputs": [],
   "source": [
    "plot(rho, radial_part)"
   ]
  },
  {
   "cell_type": "code",
   "execution_count": null,
   "metadata": {},
   "outputs": [],
   "source": [
    "plot(theta, angular_part)"
   ]
  },
  {
   "cell_type": "code",
   "execution_count": null,
   "metadata": {},
   "outputs": [],
   "source": [
    "values = (radial_part).reshape(-1, 1) * angular_part.reshape(1, -1)"
   ]
  },
  {
   "cell_type": "code",
   "execution_count": null,
   "metadata": {},
   "outputs": [],
   "source": [
    "from lib import cart_contour, polar_contour"
   ]
  },
  {
   "cell_type": "code",
   "execution_count": null,
   "metadata": {},
   "outputs": [],
   "source": [
    "cart_contour(rho, theta, values)"
   ]
  },
  {
   "cell_type": "code",
   "execution_count": null,
   "metadata": {},
   "outputs": [],
   "source": [
    "polar_contour(rho, theta, values)"
   ]
  },
  {
   "cell_type": "markdown",
   "metadata": {},
   "source": [
    "我们再来简单看看$3d_{z^2}$轨道的波函数:\n",
    "$$\\psi = N \\rho^2 e ^{-\\frac{\\rho}{2}} (3\\cos^2 \\theta - 1)$$\n",
    "其中$N$为归一化系数，$\\rho=\\frac{2r}{3a_0}$。于是如此画图："
   ]
  },
  {
   "cell_type": "code",
   "execution_count": null,
   "metadata": {},
   "outputs": [],
   "source": [
    "rho = linspace(0, 15, 100)\n",
    "polar_contour(rho, theta, (rho**2 * e ** (- rho / 2)).reshape(-1, 1) * (3 * cos(theta)**2 - 1).reshape(1, -1))"
   ]
  },
  {
   "cell_type": "markdown",
   "metadata": {},
   "source": [
    "最后一个是$4f_{z^3}$轨道的波函数:\n",
    "$$\\psi = N \\rho^3 e ^{-\\frac{\\rho}{2}} (5\\cos^3 \\theta - 3\\cos \\theta)$$\n",
    "其中$N$为归一化系数，$\\rho=\\frac{r}{2a_0}$。同理："
   ]
  },
  {
   "cell_type": "code",
   "execution_count": null,
   "metadata": {},
   "outputs": [],
   "source": [
    "rho = linspace(0, 20, 100)\n",
    "polar_contour(rho, theta, (rho**3 * e ** (- rho / 2)).reshape(-1, 1) * (5 * cos(theta)**3 - 3*cos(theta)).reshape(1, -1))"
   ]
  },
  {
   "cell_type": "markdown",
   "metadata": {},
   "source": [
    "## 实验\n",
    "绘制类氢原子$3p_z$轨道波函数，这个波函数有多少个节面？"
   ]
  },
  {
   "cell_type": "markdown",
   "metadata": {},
   "source": [
    "# 5.大分子休克尔模型\n",
    "在休克尔近似下，3个轨道参与构成分子轨道基本是手工计算的极限。当使用计算机进行计算时，可以轻易地计算1000个轨道参与形成的分子轨道的系数和能量。\n",
    "下面我们以苯环为例，求解其能量。\n",
    "\n",
    "休克尔近似下，苯环的哈密顿量为：\n",
    "$$\n",
    "H = \n",
    "\\begin{bmatrix}\n",
    "\\alpha & \\beta & 0 & 0 & 0 & \\beta \\\\\n",
    "\\beta & \\alpha & \\beta & 0 & 0 & 0  \\\\\n",
    "0 & \\beta & \\alpha & \\beta & 0 & 0  \\\\\n",
    "0 & 0 & \\beta & \\alpha & \\beta & 0  \\\\\n",
    "0 & 0 & 0 & \\beta & \\alpha & \\beta  \\\\\n",
    "\\beta & 0 & 0 & 0 & \\beta & \\alpha\n",
    "\\end{bmatrix}\n",
    "$$\n",
    "我们下面通过**直接对角化**求得该体系能量，**不经过**久期行列式。\n",
    "\n",
    "首先设定$\\alpha$和$\\beta$的大小，我们首先设$\\alpha=0$且$\\beta=-1$。"
   ]
  },
  {
   "cell_type": "code",
   "execution_count": null,
   "metadata": {},
   "outputs": [],
   "source": [
    "alpha = 0\n",
    "beta = -1"
   ]
  },
  {
   "cell_type": "markdown",
   "metadata": {},
   "source": [
    "下面我们构建体系的哈密顿量。为了方便之后更改体系大小，我们设置参与轨道数目为6"
   ]
  },
  {
   "cell_type": "code",
   "execution_count": null,
   "metadata": {},
   "outputs": [],
   "source": [
    "n = 6"
   ]
  },
  {
   "cell_type": "markdown",
   "metadata": {},
   "source": [
    "构建哈密顿量的过程涉及了两个新函数`diag`和`ones`，其效果经简单演示后就可理解。方括号表示取出数组中的一个元素。"
   ]
  },
  {
   "cell_type": "code",
   "execution_count": null,
   "metadata": {},
   "outputs": [],
   "source": [
    "H = diag(ones(n)) * alpha + diag(ones(n-1) * beta, 1) + diag(ones(n-1) * beta, -1)\n",
    "H[0][-1] = H[-1][0] = beta\n",
    "H"
   ]
  },
  {
   "cell_type": "markdown",
   "metadata": {},
   "source": [
    "下面调用`eigvalsh`方法直接求出哈密顿量特征值"
   ]
  },
  {
   "cell_type": "code",
   "execution_count": null,
   "metadata": {},
   "outputs": [],
   "source": [
    "linalg.eigvalsh(H)"
   ]
  },
  {
   "cell_type": "markdown",
   "metadata": {},
   "source": [
    "休克尔模型下，苯环分子轨道的能量和波函数如下图所示，与我们的结果是一致的：\n",
    "\n",
    "![benzene](./fig/benzene.png)"
   ]
  },
  {
   "cell_type": "markdown",
   "metadata": {},
   "source": [
    "## 思考题\n",
    "- 改变$\\alpha$和$\\beta$，结果会如何变化？\n",
    "- 如何得到原子轨道的系数？"
   ]
  },
  {
   "cell_type": "markdown",
   "metadata": {},
   "source": [
    "## 实验\n",
    "在休克尔近似下，计算共有$n$个碳原子的共轭**链**的分子轨道能量，其中$n$为你的学号最后三位加10，$\\alpha=0, \\beta=-1$。请指出最低、最高轨道能量和HOMO、LUMO能量（或SOMO能量）。"
   ]
  },
  {
   "cell_type": "markdown",
   "metadata": {},
   "source": [
    "# 6. 一维/三维势箱态密度\n",
    "一维势箱的能级公式为：\n",
    "$$\n",
    "E_n = \\frac{\\hbar^2 \\pi^2 n^2}{2mL^2}\n",
    "$$\n",
    "其中$m$为粒子质量，$L$为势箱长度。对于一个确定的 体系，将$\\frac{\\hbar^2 \\pi^2}{2mL^2}$视作常数，则能量只和$n$有关"
   ]
  },
  {
   "cell_type": "code",
   "execution_count": null,
   "metadata": {},
   "outputs": [],
   "source": [
    "E_array = arange(1000) ** 2"
   ]
  },
  {
   "cell_type": "markdown",
   "metadata": {},
   "source": [
    "利用直方图可以方便地查看数据的分布情况，即能态的密度"
   ]
  },
  {
   "cell_type": "code",
   "execution_count": null,
   "metadata": {},
   "outputs": [],
   "source": [
    "from matplotlib.pyplot import hist\n",
    "hist(E_array, bins=100);"
   ]
  },
  {
   "cell_type": "markdown",
   "metadata": {},
   "source": [
    "对于三维势箱，同理可得："
   ]
  },
  {
   "cell_type": "code",
   "execution_count": null,
   "metadata": {},
   "outputs": [],
   "source": [
    "E_array = arange(100).reshape(-1, 1, 1) ** 2 + arange(100).reshape(1, -1, 1) ** 2 + arange(100).reshape(1, 1, -1) ** 2\n",
    "hist(E_array.flatten(), bins=100, range=(0, 10000));"
   ]
  },
  {
   "cell_type": "markdown",
   "metadata": {},
   "source": [
    "其中设置`range`是为了截去能量较高，没有穷举完全的部分。PPT中固体的DOS如下图所示：\n",
    "\n",
    "![dos](./fig/dos.png)"
   ]
  },
  {
   "cell_type": "markdown",
   "metadata": {},
   "source": [
    "## 实验\n",
    "绘制二维势箱态密度，指出满足什么规律。"
   ]
  },
  {
   "cell_type": "markdown",
   "metadata": {},
   "source": [
    "# 7. 利用休克尔模型观察能带的形成\n",
    "我们在上次实验中已经计算过环状休克尔模型的能量，本次实验我们计算长链休克尔模型能量。"
   ]
  },
  {
   "cell_type": "code",
   "execution_count": null,
   "metadata": {},
   "outputs": [],
   "source": [
    "alpha = 0\n",
    "beta = -1"
   ]
  },
  {
   "cell_type": "markdown",
   "metadata": {},
   "source": [
    "下图中，每条竖线代表一个能级："
   ]
  },
  {
   "cell_type": "code",
   "execution_count": null,
   "metadata": {},
   "outputs": [],
   "source": [
    "from matplotlib.pyplot import vlines, title, show\n",
    "for n in [4, 20, 50, 100, 200, 500]:\n",
    "    H = diag(ones(n)) * alpha + diag(ones(n-1) * beta, 1) + diag(ones(n-1) * beta, -1)\n",
    "    eigvals = linalg.eigvalsh(H)\n",
    "    vlines(eigvals, zeros_like(eigvals), ones_like(eigvals))\n",
    "    title(n)\n",
    "    show()"
   ]
  },
  {
   "cell_type": "markdown",
   "metadata": {},
   "source": [
    "可见随着参与休克尔体系的轨道数目增加，能级越来越密集，最后倾向于连续。能带的带顶为2，带底为-2，宽度为4。\n",
    "\n",
    "下面我们换一种画法，将能级绘制为直方图："
   ]
  },
  {
   "cell_type": "code",
   "execution_count": null,
   "metadata": {},
   "outputs": [],
   "source": [
    "for n in [4, 20, 50, 100, 200, 500]:\n",
    "    H = diag(ones(n)) * alpha + diag(ones(n-1) * beta, 1) + diag(ones(n-1) * beta, -1)\n",
    "    eigvals = linalg.eigvalsh(H)\n",
    "    hist(eigvals, bins=20)\n",
    "    title(n)\n",
    "    show()"
   ]
  },
  {
   "cell_type": "markdown",
   "metadata": {},
   "source": [
    "从直方图中我们可以读出，基于休克尔近似形成的能带的态在带边密度较大，而在带中间密度较低。"
   ]
  },
  {
   "cell_type": "markdown",
   "metadata": {},
   "source": [
    "## 实验\n",
    "改变$\\alpha$和$\\beta$，观察休克尔模型能带的带底、带顶、带宽和态度度如何变化，并简单解释"
   ]
  },
  {
   "cell_type": "code",
   "execution_count": null,
   "metadata": {},
   "outputs": [],
   "source": []
  }
 ],
 "metadata": {
  "kernelspec": {
   "display_name": "py36",
   "language": "python",
   "name": "py36"
  },
  "language_info": {
   "codemirror_mode": {
    "name": "ipython",
    "version": 3
   },
   "file_extension": ".py",
   "mimetype": "text/x-python",
   "name": "python",
   "nbconvert_exporter": "python",
   "pygments_lexer": "ipython3",
   "version": "3.6.0"
  }
 },
 "nbformat": 4,
 "nbformat_minor": 2
}
